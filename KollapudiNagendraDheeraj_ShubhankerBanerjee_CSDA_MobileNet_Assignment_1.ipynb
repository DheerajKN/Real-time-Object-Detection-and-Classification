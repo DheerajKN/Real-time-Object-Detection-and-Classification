{
 "cells": [
  {
   "cell_type": "markdown",
   "metadata": {
    "id": "_YBBpBuVIawJ"
   },
   "source": [
    "# Batch Loader for loading Images"
   ]
  },
  {
   "cell_type": "code",
   "execution_count": 1,
   "metadata": {
    "id": "BbI1nxd5u4QJ"
   },
   "outputs": [
    {
     "name": "stdout",
     "output_type": "stream",
     "text": [
      "Found 3984 images belonging to 2 classes.\n",
      "Found 1368 images belonging to 2 classes.\n"
     ]
    }
   ],
   "source": [
    "from tensorflow.keras.preprocessing.image import ImageDataGenerator\n",
    "\n",
    "#Image generators \n",
    "train_datagen = ImageDataGenerator(rescale=1/255)\n",
    "validation_datagen = ImageDataGenerator(rescale=1/255)\n",
    "\n",
    "#Training Generator\n",
    "train_generator = train_datagen.flow_from_directory(\n",
    "        'train/', \n",
    "        classes = ['sedan', 'suv'],\n",
    "        target_size=(200, 200), \n",
    "        batch_size=120,\n",
    "        class_mode='binary')\n",
    "\n",
    "#Validation Generator\n",
    "validation_generator = validation_datagen.flow_from_directory(\n",
    "        'validation/',  \n",
    "        classes = ['sedan', 'suv'],\n",
    "        target_size=(200, 200),  \n",
    "        batch_size=19,\n",
    "        class_mode='binary',\n",
    "        shuffle=False)"
   ]
  },
  {
   "cell_type": "markdown",
   "metadata": {
    "id": "ZavFFTF0Ight"
   },
   "source": [
    "# Loading Libraries and dependencies"
   ]
  },
  {
   "cell_type": "code",
   "execution_count": 8,
   "metadata": {
    "id": "qvfZg3LQbD-5"
   },
   "outputs": [],
   "source": [
    "import tensorflow as tf\n",
    "from tensorflow.keras.applications.resnet50 import ResNet50\n",
    "from tensorflow.keras.applications import MobileNetV2\n",
    "from tensorflow.keras.models import Sequential\n",
    "from tensorflow.keras.layers import Flatten\n",
    "from tensorflow.keras.layers import Dense\n",
    "import numpy as np\n",
    "from itertools import cycle\n",
    "\n",
    "from sklearn import svm, datasets\n",
    "from sklearn.metrics import roc_curve, auc\n",
    "from sklearn.model_selection import train_test_split\n",
    "from sklearn.preprocessing import label_binarize\n",
    "from sklearn.multiclass import OneVsRestClassifier\n",
    "from scipy import interp\n",
    "from sklearn.metrics import roc_auc_score\n",
    "import matplotlib.pyplot as plt"
   ]
  },
  {
   "cell_type": "code",
   "execution_count": 3,
   "metadata": {},
   "outputs": [],
   "source": [
    "physical_devices = tf.config.experimental.list_physical_devices('GPU')\n",
    "assert len(physical_devices) > 0, \"Not enough GPU hardware devices available\"\n",
    "config = tf.config.experimental.set_memory_growth(physical_devices[0], True)"
   ]
  },
  {
   "cell_type": "markdown",
   "metadata": {
    "id": "8_EoM1xuIjw7"
   },
   "source": [
    "# Transfer learning using MobileNet"
   ]
  },
  {
   "cell_type": "code",
   "execution_count": 4,
   "metadata": {
    "id": "PixZ2s5QbYQ3"
   },
   "outputs": [
    {
     "name": "stdout",
     "output_type": "stream",
     "text": [
      "WARNING:tensorflow:`input_shape` is undefined or non-square, or `rows` is not in [96, 128, 160, 192, 224]. Weights for input shape (224, 224) will be loaded as the default.\n"
     ]
    }
   ],
   "source": [
    "#MobileNet architecture with GlobalAveragePooling2D layer and pretrained weights\n",
    "model = Sequential()\n",
    "model.add(MobileNetV2(include_top = False, weights=\"imagenet\", input_shape=(None, None, 3)))\n",
    "model.add(tf.keras.layers.GlobalAveragePooling2D())\n",
    "model.add(Dense(1, activation = 'sigmoid'))\n",
    "model.layers[0].trainable = False\n"
   ]
  },
  {
   "cell_type": "markdown",
   "metadata": {
    "id": "AUDFcphzIor2"
   },
   "source": [
    "# Compiling the model with binary cross entropy and accuracy"
   ]
  },
  {
   "cell_type": "code",
   "execution_count": 5,
   "metadata": {
    "id": "8DHWhFP_uhq3"
   },
   "outputs": [],
   "source": [
    "from tensorflow.keras.optimizers import RMSprop\n",
    "from tensorflow.keras import optimizers\n",
    "model.compile(optimizer=RMSprop(lr=0.01), loss = 'binary_crossentropy', metrics = 'accuracy')"
   ]
  },
  {
   "cell_type": "markdown",
   "metadata": {
    "id": "78raffG3IvQH"
   },
   "source": [
    "# Training the model"
   ]
  },
  {
   "cell_type": "code",
   "execution_count": 6,
   "metadata": {
    "colab": {
     "background_save": true
    },
    "id": "Fb1_lgobv81m",
    "outputId": "4c4ba1bc-b8f4-4c62-df87-897c1b7f97c0"
   },
   "outputs": [
    {
     "name": "stdout",
     "output_type": "stream",
     "text": [
      "Epoch 1/25\n",
      "8/8 [==============================] - 6s 759ms/step - loss: 2.1099 - accuracy: 0.5125 - val_loss: 2.1315 - val_accuracy: 0.1579\n",
      "Epoch 2/25\n",
      "8/8 [==============================] - 6s 798ms/step - loss: 0.8058 - accuracy: 0.6708 - val_loss: 1.6515 - val_accuracy: 0.2632\n",
      "Epoch 3/25\n",
      "8/8 [==============================] - 6s 780ms/step - loss: 0.8489 - accuracy: 0.6625 - val_loss: 1.4831 - val_accuracy: 0.3421\n",
      "Epoch 4/25\n",
      "8/8 [==============================] - 6s 794ms/step - loss: 0.8254 - accuracy: 0.6833 - val_loss: 2.2254 - val_accuracy: 0.2434\n",
      "Epoch 5/25\n",
      "8/8 [==============================] - 6s 726ms/step - loss: 0.7814 - accuracy: 0.7118 - val_loss: 1.7096 - val_accuracy: 0.4211\n",
      "Epoch 6/25\n",
      "8/8 [==============================] - 6s 776ms/step - loss: 0.5167 - accuracy: 0.7917 - val_loss: 1.2046 - val_accuracy: 0.5395\n",
      "Epoch 7/25\n",
      "8/8 [==============================] - 6s 755ms/step - loss: 0.8565 - accuracy: 0.6969 - val_loss: 1.8421 - val_accuracy: 0.4276\n",
      "Epoch 8/25\n",
      "8/8 [==============================] - 6s 762ms/step - loss: 0.7367 - accuracy: 0.7292 - val_loss: 0.7961 - val_accuracy: 0.6316\n",
      "Epoch 9/25\n",
      "8/8 [==============================] - 6s 703ms/step - loss: 0.6584 - accuracy: 0.7396 - val_loss: 0.0394 - val_accuracy: 0.9803\n",
      "Epoch 10/25\n",
      "8/8 [==============================] - 6s 752ms/step - loss: 0.6154 - accuracy: 0.7688 - val_loss: 0.4426 - val_accuracy: 0.8289\n",
      "Epoch 11/25\n",
      "8/8 [==============================] - 6s 774ms/step - loss: 0.8100 - accuracy: 0.7323 - val_loss: 0.0559 - val_accuracy: 0.9868\n",
      "Epoch 12/25\n",
      "8/8 [==============================] - 7s 819ms/step - loss: 0.5810 - accuracy: 0.7833 - val_loss: 0.8645 - val_accuracy: 0.6908\n",
      "Epoch 13/25\n",
      "8/8 [==============================] - 6s 766ms/step - loss: 0.7813 - accuracy: 0.7338 - val_loss: 0.3046 - val_accuracy: 0.8816\n",
      "Epoch 14/25\n",
      "8/8 [==============================] - 6s 785ms/step - loss: 0.5247 - accuracy: 0.8146 - val_loss: 0.1134 - val_accuracy: 0.9342\n",
      "Epoch 15/25\n",
      "8/8 [==============================] - 6s 779ms/step - loss: 0.7361 - accuracy: 0.7521 - val_loss: 0.1238 - val_accuracy: 0.9408\n",
      "Epoch 16/25\n",
      "8/8 [==============================] - 6s 785ms/step - loss: 0.5937 - accuracy: 0.7708 - val_loss: 0.2833 - val_accuracy: 0.8487\n",
      "Epoch 17/25\n",
      "8/8 [==============================] - 6s 711ms/step - loss: 0.4946 - accuracy: 0.7928 - val_loss: 1.2587 - val_accuracy: 0.5855\n",
      "Epoch 18/25\n",
      "8/8 [==============================] - 6s 788ms/step - loss: 0.4060 - accuracy: 0.8427 - val_loss: 1.8348 - val_accuracy: 0.3421\n",
      "Epoch 19/25\n",
      "8/8 [==============================] - 6s 784ms/step - loss: 0.6690 - accuracy: 0.7708 - val_loss: 0.8522 - val_accuracy: 0.6974\n",
      "Epoch 20/25\n",
      "8/8 [==============================] - 7s 816ms/step - loss: 0.6455 - accuracy: 0.7688 - val_loss: 0.8561 - val_accuracy: 0.7039\n",
      "Epoch 21/25\n",
      "8/8 [==============================] - 7s 844ms/step - loss: 0.6603 - accuracy: 0.7667 - val_loss: 0.1583 - val_accuracy: 0.9342\n",
      "Epoch 22/25\n",
      "8/8 [==============================] - 6s 741ms/step - loss: 0.5981 - accuracy: 0.7708 - val_loss: 0.1677 - val_accuracy: 0.9211\n",
      "Epoch 23/25\n",
      "8/8 [==============================] - 7s 822ms/step - loss: 0.5387 - accuracy: 0.8010 - val_loss: 0.2788 - val_accuracy: 0.8947\n",
      "Epoch 24/25\n",
      "8/8 [==============================] - 7s 827ms/step - loss: 0.6980 - accuracy: 0.7615 - val_loss: 0.2275 - val_accuracy: 0.8882\n",
      "Epoch 25/25\n",
      "8/8 [==============================] - 7s 830ms/step - loss: 0.4191 - accuracy: 0.8198 - val_loss: 1.6122 - val_accuracy: 0.5132\n"
     ]
    }
   ],
   "source": [
    "history = model.fit(\n",
    "      train_generator,\n",
    "      steps_per_epoch=8,  \n",
    "      epochs=25,\n",
    "      verbose=1,\n",
    "      validation_data = validation_generator,\n",
    "      validation_steps=8)"
   ]
  },
  {
   "cell_type": "code",
   "execution_count": 9,
   "metadata": {
    "id": "M-cRvcRGXM5Y"
   },
   "outputs": [
    {
     "data": {
      "image/png": "[encoded data removed]",
      "text/plain": [
       "<Figure size 432x288 with 1 Axes>"
      ]
     },
     "metadata": {
      "needs_background": "light"
     },
     "output_type": "display_data"
    }
   ],
   "source": [
    "# summarize history for accuracy\n",
    "plt.plot(history.history['accuracy'])\n",
    "plt.plot(history.history['val_accuracy'])\n",
    "plt.title('model accuracy')\n",
    "plt.ylabel('accuracy')\n",
    "plt.xlabel('epoch')\n",
    "plt.legend(['train', 'test'], loc='upper left')\n",
    "plt.show()"
   ]
  },
  {
   "cell_type": "markdown",
   "metadata": {
    "id": "jfMOF6YxJcgi"
   },
   "source": [
    "# Saving the model"
   ]
  },
  {
   "cell_type": "code",
   "execution_count": 11,
   "metadata": {
    "id": "VxTMGEVV6LzH"
   },
   "outputs": [],
   "source": [
    "model.save(\"my_h5_model_v6.h5\")"
   ]
  },
  {
   "cell_type": "code",
   "execution_count": null,
   "metadata": {},
   "outputs": [],
   "source": []
  }
 ],
 "metadata": {
  "accelerator": "GPU",
  "colab": {
   "collapsed_sections": [],
   "name": "MobileNet-Assignment",
   "provenance": [],
   "toc_visible": true
  },
  "kernelspec": {
   "display_name": "Python 3",
   "language": "python",
   "name": "python3"
  },
  "language_info": {
   "codemirror_mode": {
    "name": "ipython",
    "version": 3
   },
   "file_extension": ".py",
   "mimetype": "text/x-python",
   "name": "python",
   "nbconvert_exporter": "python",
   "pygments_lexer": "ipython3",
   "version": "3.8.3"
  }
 },
 "nbformat": 4,
 "nbformat_minor": 1
}
